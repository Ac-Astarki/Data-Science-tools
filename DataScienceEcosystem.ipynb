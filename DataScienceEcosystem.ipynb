{
 "cells": [
  {
   "cell_type": "markdown",
   "id": "567ffebf-13ae-43e5-8946-a25298cba4a6",
   "metadata": {},
   "source": [
    "## Data Science Tools and Ecosystem"
   ]
  },
  {
   "cell_type": "markdown",
   "id": "d206307d-257a-4085-9c9d-4a244cbc0467",
   "metadata": {},
   "source": [
    "In this notebook, Data Science Tools and Ecosystem are summarized.\n"
   ]
  },
  {
   "cell_type": "markdown",
   "id": "e72d50cd-6894-406b-873c-05594729fa32",
   "metadata": {},
   "source": [
    "**Some of the popular languages that Data Scientists use are:**\n",
    "1. Python\n",
    "2. R\n",
    "3. Java"
   ]
  },
  {
   "cell_type": "markdown",
   "id": "18476242-fb3d-42ec-938c-d915e059fed7",
   "metadata": {},
   "source": [
    "**Some of the commonly used libraries used by Data Scientists include:**\n",
    "1. SciPy\n",
    "2. Pandas\n",
    "3. Numpy"
   ]
  },
  {
   "cell_type": "markdown",
   "id": "f416cc68-fbcc-4192-bb16-e5f62a53fc08",
   "metadata": {},
   "source": [
    "| Data Science Tools    |\n",
    "|----------------------|\n",
    "| 1. Jupyter Notebook  |\n",
    "| 2. RStudio           |\n",
    "| 3. Visual Studio Code|\n"
   ]
  },
  {
   "cell_type": "markdown",
   "id": "5eac8040-bbf0-4dd3-9e77-7e3d3c74da12",
   "metadata": {
    "tags": []
   },
   "source": [
    "### Below are a few examples of evaluating arithmetic expressions in Python\n",
    "\n",
    "In Python, you can perform various arithmetic operations, such as addition, subtraction, multiplication, division, and more. Let's explore some basic examples to understand how these expressions are evaluated in Python.\n"
   ]
  },
  {
   "cell_type": "code",
   "execution_count": 3,
   "id": "b27cbc7b-8ab4-4993-8b1f-1c39f90f9b23",
   "metadata": {
    "tags": []
   },
   "outputs": [
    {
     "data": {
      "text/plain": [
       "17"
      ]
     },
     "execution_count": 3,
     "metadata": {},
     "output_type": "execute_result"
    }
   ],
   "source": [
    "# This is a simple arithmetic expression to multiply then add integers.\n",
    "result = (3 * 4) + 5\n",
    "result\n"
   ]
  },
  {
   "cell_type": "code",
   "execution_count": 4,
   "id": "aa9e0f74-bcb7-4213-ab3a-051f3ae77221",
   "metadata": {
    "tags": []
   },
   "outputs": [
    {
     "data": {
      "text/plain": [
       "3.3333333333333335"
      ]
     },
     "execution_count": 4,
     "metadata": {},
     "output_type": "execute_result"
    }
   ],
   "source": [
    "# This will convert 200 minutes to hours by dividing by 60\n",
    "minutes = 200\n",
    "hours = minutes / 60\n",
    "hours\n"
   ]
  },
  {
   "cell_type": "markdown",
   "id": "651298b2-6ec6-4b60-9ea7-ac54eec51112",
   "metadata": {},
   "source": [
    "**Objectives:**\n",
    "\n",
    "- Discuss popular languages for Data Science.\n",
    "- Introduce basic arithmetic expressions and their evaluation in Python.\n",
    "- Explore the conversion of minutes to hours using Python.\n",
    "- List commonly used data science libraries and tools.\n",
    "- Execute simple arithmetic expressions in a code cell to understand their results.\n"
   ]
  },
  {
   "cell_type": "markdown",
   "id": "188294db-aecb-4165-a3aa-81b554558b40",
   "metadata": {},
   "source": [
    "## Author\n",
    "\n",
    "M.A.Astaraki\n"
   ]
  },
  {
   "cell_type": "code",
   "execution_count": null,
   "id": "ec0995cc-ab78-4152-a841-16552a314d89",
   "metadata": {},
   "outputs": [],
   "source": []
  }
 ],
 "metadata": {
  "kernelspec": {
   "display_name": "Python",
   "language": "python",
   "name": "conda-env-python-py"
  },
  "language_info": {
   "codemirror_mode": {
    "name": "ipython",
    "version": 3
   },
   "file_extension": ".py",
   "mimetype": "text/x-python",
   "name": "python",
   "nbconvert_exporter": "python",
   "pygments_lexer": "ipython3",
   "version": "3.7.12"
  }
 },
 "nbformat": 4,
 "nbformat_minor": 5
}
